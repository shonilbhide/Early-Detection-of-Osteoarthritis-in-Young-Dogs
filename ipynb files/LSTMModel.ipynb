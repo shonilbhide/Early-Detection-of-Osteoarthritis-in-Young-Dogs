{
  "cells": [
    {
      "cell_type": "code",
      "execution_count": 2,
      "metadata": {
        "id": "gnX4B2cmzeZX"
      },
      "outputs": [],
      "source": [
        "# Initial Imports\n",
        "import numpy as np\n",
        "import pandas as pd\n",
        "import matplotlib.pyplot as plt\n",
        "import seaborn as sns\n",
        "import os\n",
        "import scipy\n",
        "from IPython.display import clear_output\n",
        "import warnings\n",
        "warnings.filterwarnings('ignore')\n",
        "import math\n",
        "from sklearn.model_selection import train_test_split\n",
        "from sklearn.ensemble import RandomForestClassifier\n",
        "from sklearn import metrics\n",
        "from sklearn.metrics import classification_report\n",
        "from tensorflow.keras.models import Sequential\n",
        "from tensorflow.keras.layers import LSTM, Dense, Dropout\n",
        "from tensorflow.keras.callbacks import EarlyStopping\n",
        "from collections import Counter\n",
        "from sklearn.model_selection import train_test_split\n",
        "from sklearn.metrics import f1_score\n",
        "from sklearn.metrics import classification_report"
      ]
    },
    {
      "cell_type": "markdown",
      "metadata": {
        "id": "uGQJAam3_Sgu"
      },
      "source": [
        "### 1. Load and Prepare Data"
      ]
    },
    {
      "cell_type": "code",
      "execution_count": 3,
      "metadata": {
        "colab": {
          "base_uri": "https://localhost:8080/",
          "height": 205
        },
        "id": "AUamUVVxzhYP",
        "outputId": "e2daf921-ff6f-4531-d91f-9c255016f694"
      },
      "outputs": [
        {
          "name": "stdout",
          "output_type": "stream",
          "text": [
            "Mounted at /content/drive\n"
          ]
        },
        {
          "data": {
            "text/html": [
              "<div style=\"max-width:800px; border: 1px solid var(--colab-border-color);\"><style>\n",
              "      pre.function-repr-contents {\n",
              "        overflow-x: auto;\n",
              "        padding: 8px 12px;\n",
              "        max-height: 500px;\n",
              "      }\n",
              "\n",
              "      pre.function-repr-contents.function-repr-contents-collapsed {\n",
              "        cursor: pointer;\n",
              "        max-height: 100px;\n",
              "      }\n",
              "    </style>\n",
              "    <pre style=\"white-space: initial; background:\n",
              "         var(--colab-secondary-surface-color); padding: 8px 12px;\n",
              "         border-bottom: 1px solid var(--colab-border-color);\"><b>IPython.core.display.clear_output</b><br/>def clear_output(wait=False)</pre><pre class=\"function-repr-contents function-repr-contents-collapsed\" style=\"\"><a class=\"filepath\" style=\"display:none\" href=\"#\">/usr/local/lib/python3.10/dist-packages/IPython/core/display.py</a>Clear the output of the current cell receiving output.\n",
              "\n",
              "Parameters\n",
              "----------\n",
              "wait : bool [default: false]\n",
              "    Wait to clear the output until new output is available to replace it.</pre>\n",
              "      <script>\n",
              "      if (google.colab.kernel.accessAllowed && google.colab.files && google.colab.files.view) {\n",
              "        for (const element of document.querySelectorAll('.filepath')) {\n",
              "          element.style.display = 'block'\n",
              "          element.onclick = (event) => {\n",
              "            event.preventDefault();\n",
              "            event.stopPropagation();\n",
              "            google.colab.files.view(element.textContent, 1462);\n",
              "          };\n",
              "        }\n",
              "      }\n",
              "      for (const element of document.querySelectorAll('.function-repr-contents')) {\n",
              "        element.onclick = (event) => {\n",
              "          event.preventDefault();\n",
              "          event.stopPropagation();\n",
              "          element.classList.toggle('function-repr-contents-collapsed');\n",
              "        };\n",
              "      }\n",
              "      </script>\n",
              "      </div>"
            ],
            "text/plain": [
              "<function IPython.core.display.clear_output(wait=False)>"
            ]
          },
          "execution_count": 3,
          "metadata": {},
          "output_type": "execute_result"
        }
      ],
      "source": [
        "# Mount Google Drive with data\n",
        "from google.colab import drive\n",
        "drive.mount('/content/drive')\n",
        "clear_output"
      ]
    },
    {
      "cell_type": "code",
      "execution_count": 4,
      "metadata": {
        "id": "x9GGZ3BHziRZ"
      },
      "outputs": [],
      "source": [
        "def calculate_new_values(row):\n",
        "    row['LF'] = (row['LF'] * row['Raw_Sum']) / 100\n",
        "    row['LH'] = (row['LH'] * row['Raw_Sum']) / 100\n",
        "    row['RF'] = (row['RF'] * row['Raw_Sum']) / 100\n",
        "    row['RH'] = (row['RH'] * row['Raw_Sum']) / 100\n",
        "    return row"
      ]
    },
    {
      "cell_type": "code",
      "execution_count": 5,
      "metadata": {
        "colab": {
          "base_uri": "https://localhost:8080/"
        },
        "id": "8bOIkN02zqqY",
        "outputId": "b3d6491f-0b8f-4d7a-9d34-a9a08af970ee"
      },
      "outputs": [
        {
          "name": "stdout",
          "output_type": "stream",
          "text": [
            "CSV files ending with '_G' loaded into separate DataFrames:\n",
            "['Mase Moore', 'Loretta Cullen', 'Tucker Baucomb', 'Turks Forester', 'Artemis McCallister', 'Bruno Mckeon', 'Danika Vargas', 'Dulla Brackett', 'Einstein Chappelle', 'Emma Rivera', 'Indy Wolfe', 'Poppy Case', 'Katie Piojda', 'Gryffin Frank', 'Teddy Krahe', 'Lexi Green', 'Abbi Dillard', 'Abigail Vargas', 'Ziva Mitchell', 'Josie Hammond', 'Finnigan Fox', 'Archie Casavant']\n"
          ]
        }
      ],
      "source": [
        "# Load Excel sheet with  data of Young Dogs\n",
        "dogs = pd.read_excel(\"/content/drive/Shareddrives/NNDL_Project/Young dog OA grouping.xlsx\")\n",
        "\n",
        "# Define the main directory path\n",
        "main_directory = \"/content/drive/Shareddrives/NNDL_Project\"\n",
        "\n",
        "# Initialize an empty dictionary to store DataFrames\n",
        "dataframes = {}\n",
        "columns = ['Frame', 'Time', 'Absolute_Time', 'Raw_Sum', 'LF', 'LH','RF', 'RH']\n",
        "# Iterate over directories in the main directory\n",
        "for root, dirs, files in os.walk(main_directory):\n",
        "    for dir_name in dirs:\n",
        "        if dir_name in ['Finn Cray']:\n",
        "              continue\n",
        "        dir_path = os.path.join(root, dir_name)\n",
        "        # Iterate over files in the current directory\n",
        "        for filename in os.listdir(dir_path):\n",
        "\n",
        "            if filename.endswith(\"_G.csv\"):  # Check if the file name ends with \"_G.csv\"\n",
        "                file_path = os.path.join(dir_path, filename)  # Get the full file path\n",
        "                # Read the CSV file into a DataFrame and store it in the dictionary\n",
        "                df = pd.read_csv(file_path,skiprows=41,names=columns,skipfooter=1)\n",
        "                if len(df) != 0:\n",
        "                  if dir_name not in dataframes.keys():\n",
        "                    dataframes[dir_name] = {}\n",
        "                  df = df.drop(columns=['Frame', 'Time', 'Absolute_Time'])\n",
        "                  df = df[df['Raw_Sum'] != 0]\n",
        "                  df = df.apply(calculate_new_values, axis=1)\n",
        "                  df = df.drop(columns=['Raw_Sum'])\n",
        "                  # for column in df.columns:\n",
        "                  #   df[column] = df[column]  / df[column].abs().max()\n",
        "                  dataframes[dir_name][filename]= df\n",
        "                #Remove rows with Rawsum equal to zero\n",
        "                # dataframes[dir_name][filename] = dataframes[dir_name][filename][(dataframes[dir_name][filename]['Raw_Sum'] > 0)]\n",
        "\n",
        "# Print the keys (file names) in the dictionary\n",
        "print(\"CSV files ending with '_G' loaded into separate DataFrames:\")\n",
        "print(list(dataframes.keys()))"
      ]
    },
    {
      "cell_type": "code",
      "execution_count": 6,
      "metadata": {
        "colab": {
          "base_uri": "https://localhost:8080/"
        },
        "id": "dAkE7TRo0guw",
        "outputId": "6817e520-ff81-48b3-e6e1-7561940797ca"
      },
      "outputs": [
        {
          "name": "stdout",
          "output_type": "stream",
          "text": [
            "['Mase Moore', 'Loretta Cullen', 'Tucker Baucomb', 'Turks Forester', 'Artemis McCallister', 'Bruno Mckeon', 'Danika Vargas', 'Dulla Brackett', 'Einstein Chappelle', 'Emma Rivera', 'Indy Wolfe', 'Poppy Case', 'Katie Piojda', 'Gryffin Frank', 'Teddy Krahe', 'Lexi Green', 'Abbi Dillard', 'Abigail Vargas', 'Ziva Mitchell', 'Josie Hammond', 'Finnigan Fox', 'Archie Casavant']\n"
          ]
        }
      ],
      "source": [
        "print(list(dataframes.keys()))"
      ]
    },
    {
      "cell_type": "code",
      "execution_count": 7,
      "metadata": {
        "colab": {
          "base_uri": "https://localhost:8080/"
        },
        "id": "iwzrn23T0A6r",
        "outputId": "71f1ce01-7960-4dd1-d671-efc629a4382f"
      },
      "outputs": [
        {
          "data": {
            "text/plain": [
              "{'CheeM01_G.csv':         LF   LH     RF   RH\n",
              " 232    0.0  0.0   37.0  0.0\n",
              " 233    0.0  0.0   51.0  0.0\n",
              " 234    0.0  0.0   94.0  0.0\n",
              " 235    0.0  0.0  148.0  0.0\n",
              " 236    0.0  0.0  172.0  0.0\n",
              " ..     ...  ...    ...  ...\n",
              " 518  312.0  0.0    0.0  0.0\n",
              " 519  260.0  0.0    0.0  0.0\n",
              " 520  197.0  0.0    0.0  0.0\n",
              " 521  109.0  0.0    0.0  0.0\n",
              " 522   42.0  0.0    0.0  0.0\n",
              " \n",
              " [291 rows x 4 columns],\n",
              " 'CheeM02_G.csv':       LF     LH   RF     RH\n",
              " 177  0.0    0.0  0.0    0.0\n",
              " 178  0.0    0.0  0.0   70.0\n",
              " 179  0.0    0.0  0.0  122.0\n",
              " 180  0.0    0.0  0.0  193.0\n",
              " 181  0.0    0.0  0.0  241.0\n",
              " ..   ...    ...  ...    ...\n",
              " 399  0.0  222.0  0.0    0.0\n",
              " 400  0.0  186.0  0.0    0.0\n",
              " 401  0.0  139.0  0.0    0.0\n",
              " 402  0.0   82.0  0.0    0.0\n",
              " 403  0.0   46.0  0.0    0.0\n",
              " \n",
              " [227 rows x 4 columns],\n",
              " 'CheeM03_G.csv':         LF   LH   RF     RH\n",
              " 176    0.0  0.0  0.0   49.0\n",
              " 177    0.0  0.0  0.0   86.0\n",
              " 178    0.0  0.0  0.0  132.0\n",
              " 179    0.0  0.0  0.0  208.0\n",
              " 180    0.0  0.0  0.0  246.0\n",
              " ..     ...  ...  ...    ...\n",
              " 534  281.0  0.0  0.0    0.0\n",
              " 535  237.0  0.0  0.0    0.0\n",
              " 536  171.0  0.0  0.0    0.0\n",
              " 537  100.0  0.0  0.0    0.0\n",
              " 538   27.0  0.0  0.0    0.0\n",
              " \n",
              " [363 rows x 4 columns],\n",
              " 'CheeM04_G.csv':         LF   LH   RF     RH\n",
              " 166    0.0  0.0  0.0   30.0\n",
              " 167    0.0  0.0  0.0   58.0\n",
              " 168    0.0  0.0  0.0   98.0\n",
              " 169    0.0  0.0  0.0  135.0\n",
              " 170    0.0  0.0  0.0  193.0\n",
              " ..     ...  ...  ...    ...\n",
              " 522  269.0  0.0  0.0    0.0\n",
              " 523  224.0  0.0  0.0    0.0\n",
              " 524  205.0  0.0  0.0    0.0\n",
              " 525  153.0  0.0  0.0    0.0\n",
              " 526   28.0  0.0  0.0    0.0\n",
              " \n",
              " [361 rows x 4 columns],\n",
              " 'CheeM05_G.csv':       LF     LH     RF   RH\n",
              " 185  0.0    0.0    0.0  0.0\n",
              " 186  0.0    0.0    0.0  0.0\n",
              " 187  0.0    0.0   22.0  0.0\n",
              " 188  0.0    0.0   74.0  0.0\n",
              " 189  0.0    0.0  114.0  0.0\n",
              " ..   ...    ...    ...  ...\n",
              " 571  0.0  278.0    0.0  0.0\n",
              " 572  0.0  226.0    0.0  0.0\n",
              " 573  0.0  169.0    0.0  0.0\n",
              " 574  0.0  124.0    0.0  0.0\n",
              " 575  0.0   38.0    0.0  0.0\n",
              " \n",
              " [391 rows x 4 columns],\n",
              " 'CheeM06_G.csv':         LF   LH   RF     RH\n",
              " 156    0.0  0.0  0.0   44.0\n",
              " 157    0.0  0.0  0.0  104.0\n",
              " 158    0.0  0.0  0.0  143.0\n",
              " 159    0.0  0.0  0.0  196.0\n",
              " 160    0.0  0.0  0.0  269.0\n",
              " ..     ...  ...  ...    ...\n",
              " 531  344.0  0.0  0.0    0.0\n",
              " 532  288.0  0.0  0.0    0.0\n",
              " 533  215.0  0.0  0.0    0.0\n",
              " 534  127.0  0.0  0.0    0.0\n",
              " 535   28.0  0.0  0.0    0.0\n",
              " \n",
              " [380 rows x 4 columns],\n",
              " 'CheeM07_G.csv':       LF   LH   RF     RH\n",
              " 160  0.0  0.0  0.0   65.0\n",
              " 161  0.0  0.0  0.0   90.0\n",
              " 162  0.0  0.0  0.0  181.0\n",
              " 163  0.0  0.0  0.0  227.0\n",
              " 164  0.0  0.0  0.0  283.0\n",
              " ..   ...  ...  ...    ...\n",
              " 596  0.0  0.0  0.0    0.0\n",
              " 597  0.0  0.0  0.0    0.0\n",
              " 598  0.0  0.0  0.0    0.0\n",
              " 599  0.0  0.0  0.0    0.0\n",
              " 600  0.0  0.0  0.0    0.0\n",
              " \n",
              " [441 rows x 4 columns],\n",
              " 'CheeM08_G.csv':         LF     LH   RF   RH\n",
              " 172   30.0    0.0  0.0  0.0\n",
              " 173   95.0    0.0  0.0  0.0\n",
              " 174  190.0    0.0  0.0  0.0\n",
              " 175  315.0    0.0  0.0  0.0\n",
              " 176  470.0    0.0  0.0  0.0\n",
              " ..     ...    ...  ...  ...\n",
              " 338    0.0  395.0  0.0  0.0\n",
              " 339    0.0  304.0  0.0  0.0\n",
              " 340    0.0  205.0  0.0  0.0\n",
              " 341    0.0  111.0  0.0  0.0\n",
              " 342    0.0   53.0  0.0  0.0\n",
              " \n",
              " [161 rows x 4 columns],\n",
              " 'CheeM09_G.csv':         LF   LH     RF   RH\n",
              " 177    0.0  0.0   57.0  0.0\n",
              " 178    0.0  0.0  118.0  0.0\n",
              " 179    0.0  0.0  182.0  0.0\n",
              " 180    0.0  0.0  308.0  0.0\n",
              " 181    0.0  0.0  419.0  0.0\n",
              " ..     ...  ...    ...  ...\n",
              " 346  514.0  0.0    0.0  0.0\n",
              " 347  398.0  0.0    0.0  0.0\n",
              " 348  299.0  0.0    0.0  0.0\n",
              " 349  197.0  0.0    0.0  0.0\n",
              " 350   99.0  0.0    0.0  0.0\n",
              " \n",
              " [164 rows x 4 columns],\n",
              " 'CheeM10_G.csv':         LF     LH   RF   RH\n",
              " 110    0.0   33.0  0.0  0.0\n",
              " 111    0.0   89.0  0.0  0.0\n",
              " 112    0.0  166.0  0.0  0.0\n",
              " 113    0.0  257.0  0.0  0.0\n",
              " 114    0.0  359.0  0.0  0.0\n",
              " ..     ...    ...  ...  ...\n",
              " 258  624.0    0.0  0.0  0.0\n",
              " 259  502.0    0.0  0.0  0.0\n",
              " 260  387.0    0.0  0.0  0.0\n",
              " 261  256.0    0.0  0.0  0.0\n",
              " 262  110.0    0.0  0.0  0.0\n",
              " \n",
              " [140 rows x 4 columns],\n",
              " 'CheeM11_G.csv':       LF   LH     RF     RH\n",
              " 153  0.0  0.0   43.0    0.0\n",
              " 154  0.0  0.0  150.0    0.0\n",
              " 155  0.0  0.0  297.0    0.0\n",
              " 156  0.0  0.0  485.0    0.0\n",
              " 157  0.0  0.0  660.0    0.0\n",
              " ..   ...  ...    ...    ...\n",
              " 309  0.0  0.0    0.0  540.0\n",
              " 310  0.0  0.0    0.0  402.0\n",
              " 311  0.0  0.0    0.0  301.0\n",
              " 312  0.0  0.0    0.0  176.0\n",
              " 313  0.0  0.0    0.0   77.0\n",
              " \n",
              " [151 rows x 4 columns],\n",
              " 'CheeM12_G.csv':         LF   LH   RF     RH\n",
              " 106    0.0  0.0  0.0    0.0\n",
              " 107    0.0  0.0  0.0   64.0\n",
              " 108    0.0  0.0  0.0  144.0\n",
              " 109    0.0  0.0  0.0  366.0\n",
              " 110    0.0  0.0  0.0  573.0\n",
              " ..     ...  ...  ...    ...\n",
              " 252  428.0  0.0  0.0    0.0\n",
              " 253  333.0  0.0  0.0    0.0\n",
              " 254  255.0  0.0  0.0    0.0\n",
              " 255  141.0  0.0  0.0    0.0\n",
              " 256   53.0  0.0  0.0    0.0\n",
              " \n",
              " [139 rows x 4 columns]}"
            ]
          },
          "execution_count": 7,
          "metadata": {},
          "output_type": "execute_result"
        }
      ],
      "source": [
        "dataframes['Mase Moore']"
      ]
    },
    {
      "cell_type": "code",
      "execution_count": 8,
      "metadata": {
        "id": "XX1Hj7I10jkB"
      },
      "outputs": [],
      "source": [
        "def get_label(Name):\n",
        "  label = dogs[dogs['Patient Name (first, last)'] == Name].Group.values[0]\n",
        "  if label == 'cOA1':\n",
        "    return 1\n",
        "  if label == 'rOA':\n",
        "    return 2\n",
        "  else:\n",
        "    return 0"
      ]
    },
    {
      "cell_type": "code",
      "execution_count": 9,
      "metadata": {
        "id": "KjNFp84A1B-I"
      },
      "outputs": [],
      "source": [
        "min_len = 120"
      ]
    },
    {
      "cell_type": "code",
      "execution_count": 10,
      "metadata": {
        "id": "jOXLOYxN04__"
      },
      "outputs": [],
      "source": [
        "sequences =[]\n",
        "labels = []\n",
        "for doggy in dataframes.keys():\n",
        "  for filename in dataframes[doggy]:\n",
        "    strt = 0\n",
        "    if len(dataframes[doggy][filename])>min_len:\n",
        "      for k in range(math.ceil(len(dataframes[doggy][filename])-min_len)):\n",
        "        sequence_features= dataframes[doggy][filename][strt: strt+min_len]\n",
        "        label = get_label(doggy)\n",
        "        strt+=1\n",
        "        sequences.append(sequence_features.to_numpy())\n",
        "        labels.append(label)\n"
      ]
    },
    {
      "cell_type": "code",
      "execution_count": 11,
      "metadata": {
        "colab": {
          "base_uri": "https://localhost:8080/"
        },
        "id": "VGTLNMvsCD64",
        "outputId": "2cdd61fe-7b4b-4a70-e764-798a76e4716e"
      },
      "outputs": [
        {
          "data": {
            "text/plain": [
              "Counter({0: 10332, 1: 9939, 2: 12128})"
            ]
          },
          "execution_count": 11,
          "metadata": {},
          "output_type": "execute_result"
        }
      ],
      "source": [
        "Counter(labels)"
      ]
    },
    {
      "cell_type": "code",
      "execution_count": 12,
      "metadata": {
        "id": "Ec5DhB0F4A3p"
      },
      "outputs": [],
      "source": [
        "num_classes = 3\n",
        "\n",
        "# Perform one-hot encoding\n",
        "one_hot_encoded = np.eye(num_classes)[labels]"
      ]
    },
    {
      "cell_type": "code",
      "execution_count": 13,
      "metadata": {
        "colab": {
          "base_uri": "https://localhost:8080/"
        },
        "id": "8O1F77AK44th",
        "outputId": "872fca49-6a05-4479-b3ba-75cee0ac5f1e"
      },
      "outputs": [
        {
          "data": {
            "text/plain": [
              "(32399, 3)"
            ]
          },
          "execution_count": 13,
          "metadata": {},
          "output_type": "execute_result"
        }
      ],
      "source": [
        "one_hot_encoded.shape"
      ]
    },
    {
      "cell_type": "code",
      "execution_count": 14,
      "metadata": {
        "id": "cM9XEIp7NYxE"
      },
      "outputs": [],
      "source": [
        "labels = np.array(labels)"
      ]
    },
    {
      "cell_type": "code",
      "execution_count": 15,
      "metadata": {
        "colab": {
          "base_uri": "https://localhost:8080/"
        },
        "id": "bgJM7LEr2D64",
        "outputId": "6fbd7baf-c36a-4bee-8b15-0477d9546f62"
      },
      "outputs": [
        {
          "data": {
            "text/plain": [
              "32399"
            ]
          },
          "execution_count": 15,
          "metadata": {},
          "output_type": "execute_result"
        }
      ],
      "source": [
        "len(sequences)"
      ]
    },
    {
      "cell_type": "code",
      "execution_count": 16,
      "metadata": {
        "colab": {
          "base_uri": "https://localhost:8080/"
        },
        "id": "PjFWf-lp2MLA",
        "outputId": "f5ea6c74-88fb-4512-fe61-0208e6809351"
      },
      "outputs": [
        {
          "data": {
            "text/plain": [
              "32399"
            ]
          },
          "execution_count": 16,
          "metadata": {},
          "output_type": "execute_result"
        }
      ],
      "source": [
        "len(one_hot_encoded)"
      ]
    },
    {
      "cell_type": "code",
      "execution_count": 17,
      "metadata": {
        "id": "AJivdsmu5RDA"
      },
      "outputs": [],
      "source": [
        "sequences = np.array(sequences)"
      ]
    },
    {
      "cell_type": "code",
      "execution_count": 18,
      "metadata": {
        "colab": {
          "base_uri": "https://localhost:8080/"
        },
        "id": "_stofyBp2wiY",
        "outputId": "ba2cfbc2-d1e7-4511-bc40-c96215d8c9b7"
      },
      "outputs": [
        {
          "data": {
            "text/plain": [
              "(32399, 120, 4)"
            ]
          },
          "execution_count": 18,
          "metadata": {},
          "output_type": "execute_result"
        }
      ],
      "source": [
        "sequences.shape"
      ]
    },
    {
      "cell_type": "code",
      "execution_count": 19,
      "metadata": {
        "colab": {
          "base_uri": "https://localhost:8080/"
        },
        "id": "LWD10YT01N_I",
        "outputId": "b653365c-f310-49d3-b06a-6bdf0badb37f"
      },
      "outputs": [
        {
          "data": {
            "text/plain": [
              "array([[   0.   ,    0.   ,   37.   ,    0.   ],\n",
              "       [   0.   ,    0.   ,   51.   ,    0.   ],\n",
              "       [   0.   ,    0.   ,   94.   ,    0.   ],\n",
              "       [   0.   ,    0.   ,  148.   ,    0.   ],\n",
              "       [   0.   ,    0.   ,  172.   ,    0.   ],\n",
              "       [   0.   ,    0.   ,  223.   ,    0.   ],\n",
              "       [   0.   ,    0.   ,  274.   ,    0.   ],\n",
              "       [   0.   ,    0.   ,  308.   ,    0.   ],\n",
              "       [   0.   ,    0.   ,  348.   ,    0.   ],\n",
              "       [   0.   ,    0.   ,  383.   ,    0.   ],\n",
              "       [   0.   ,    0.   ,  420.   ,    0.   ],\n",
              "       [   0.   ,    0.   ,  456.   ,    0.   ],\n",
              "       [   0.   ,    0.   ,  480.   ,    0.   ],\n",
              "       [   0.   ,    0.   ,  508.   ,    0.   ],\n",
              "       [   0.   ,    0.   ,  535.   ,    0.   ],\n",
              "       [   0.   ,    0.   ,  554.   ,    0.   ],\n",
              "       [   0.   ,    0.   ,  569.   ,    0.   ],\n",
              "       [   0.   ,    0.   ,  589.   ,    0.   ],\n",
              "       [   0.   ,    0.   ,  601.   ,    0.   ],\n",
              "       [   0.   ,    0.   ,  605.   ,    0.   ],\n",
              "       [   0.   ,    0.   ,  608.   ,    0.   ],\n",
              "       [   0.   ,    0.   ,  613.   ,    0.   ],\n",
              "       [   0.   ,    0.   ,  617.   ,    0.   ],\n",
              "       [   0.   ,    0.   ,  618.   ,    0.   ],\n",
              "       [   0.   ,    0.   ,  621.   ,    0.   ],\n",
              "       [   0.   ,    0.   ,  645.   ,    0.   ],\n",
              "       [   0.   ,    0.   ,  658.   ,    0.   ],\n",
              "       [   0.   ,    0.   ,  676.   ,    0.   ],\n",
              "       [   0.   ,    0.   ,  714.   ,    0.   ],\n",
              "       [   0.   ,    0.   ,  724.   ,    0.   ],\n",
              "       [   0.   ,    0.   ,  748.   ,    0.   ],\n",
              "       [   0.   ,    0.   ,  762.   ,    0.   ],\n",
              "       [   0.   ,    0.   ,  776.   ,    0.   ],\n",
              "       [   0.   ,    0.   ,  785.   ,    0.   ],\n",
              "       [   0.   ,    0.   ,  792.   ,    0.   ],\n",
              "       [   0.   ,    0.   ,  790.   ,    0.   ],\n",
              "       [   0.   ,    0.   ,  776.   ,    0.   ],\n",
              "       [   0.   ,    0.   ,  776.   ,    0.   ],\n",
              "       [   0.   ,    0.   ,  737.   ,    0.   ],\n",
              "       [   0.   ,    0.   ,  702.   ,    0.   ],\n",
              "       [   0.   ,    0.   ,  642.   ,    0.   ],\n",
              "       [   0.   ,    0.   ,  569.592,    0.   ],\n",
              "       [   0.   ,    0.   ,  518.205,   60.795],\n",
              "       [   0.   ,    0.   ,  486.012,  119.988],\n",
              "       [   0.   ,    0.   ,  422.094,  195.906],\n",
              "       [   0.   ,    0.   ,  389.232,  246.768],\n",
              "       [   0.   ,    0.   ,  346.332,  304.668],\n",
              "       [   0.   ,    0.   ,  302.68 ,  341.32 ],\n",
              "       [   0.   ,    0.   ,  247.5  ,  377.5  ],\n",
              "       [   0.   ,    0.   ,  187.113,  455.887],\n",
              "       [   0.   ,    0.   ,  126.25 ,  498.75 ],\n",
              "       [   0.   ,    0.   ,   34.5  ,  540.5  ],\n",
              "       [   0.   ,    0.   ,    0.   ,  580.   ],\n",
              "       [   0.   ,    0.   ,    0.   ,  620.   ],\n",
              "       [   0.   ,    0.   ,    0.   ,  644.   ],\n",
              "       [   0.   ,    0.   ,    0.   ,  677.   ],\n",
              "       [   0.   ,    0.   ,    0.   ,  714.   ],\n",
              "       [   0.   ,    0.   ,    0.   ,  750.   ],\n",
              "       [   0.   ,    0.   ,    0.   ,  770.   ],\n",
              "       [   0.   ,    0.   ,    0.   ,  798.   ],\n",
              "       [   0.   ,    0.   ,    0.   ,  821.   ],\n",
              "       [   0.   ,    0.   ,    0.   ,  837.   ],\n",
              "       [   0.   ,    0.   ,    0.   ,  853.   ],\n",
              "       [   0.   ,    0.   ,    0.   ,  873.   ],\n",
              "       [   0.   ,    0.   ,    0.   ,  888.   ],\n",
              "       [   0.   ,    0.   ,    0.   ,  896.   ],\n",
              "       [   0.   ,    0.   ,    0.   ,  913.   ],\n",
              "       [   0.   ,    0.   ,    0.   ,  927.   ],\n",
              "       [ 173.91 ,    0.   ,    0.   ,  948.09 ],\n",
              "       [ 315.234,    0.   ,    0.   ,  950.766],\n",
              "       [ 429.819,    0.   ,    0.   ,  961.181],\n",
              "       [ 508.669,    0.   ,    0.   ,  974.331],\n",
              "       [ 569.584,    0.   ,    0.   ,  982.416],\n",
              "       [ 626.864,    0.   ,    0.   ,  997.136],\n",
              "       [ 659.814,    0.   ,    0.   , 1002.186],\n",
              "       [ 690.679,    0.   ,    0.   , 1006.321],\n",
              "       [ 711.725,    0.   ,    0.   , 1003.275],\n",
              "       [ 743.75 ,    0.   ,    0.   , 1006.25 ],\n",
              "       [ 761.214,    0.   ,    0.   ,  996.786],\n",
              "       [ 761.074,    0.   ,    0.   ,  956.926],\n",
              "       [ 770.484,    0.   ,    0.   ,  945.516],\n",
              "       [ 769.743,    0.   ,    0.   ,  907.257],\n",
              "       [ 731.185,    0.   ,    0.   ,  875.815],\n",
              "       [ 716.1  ,    0.   ,    0.   ,  823.9  ],\n",
              "       [ 687.792,    0.   ,    0.   ,  736.208],\n",
              "       [ 634.336,    0.   ,   90.816,  650.848],\n",
              "       [ 582.084,    0.   ,  200.583,  527.022],\n",
              "       [ 554.85 ,    0.   ,  262.629,  415.521],\n",
              "       [ 528.96 ,    0.   ,  331.76 ,  299.28 ],\n",
              "       [ 491.874,    0.   ,  405.403,  225.723],\n",
              "       [ 460.852,    0.   ,  474.593,  121.555],\n",
              "       [ 432.306,    0.   ,  531.006,   23.688],\n",
              "       [ 389.258,    0.   ,  629.742,    0.   ],\n",
              "       [ 376.2  ,    0.   ,  668.8  ,    0.   ],\n",
              "       [ 370.097,    0.   ,  708.903,    0.   ],\n",
              "       [ 364.826,    0.   ,  768.174,    0.   ],\n",
              "       [ 344.147,    0.   ,  776.853,    0.   ],\n",
              "       [ 351.97 ,    0.   ,  802.03 ,    0.   ],\n",
              "       [ 361.73 ,    0.   ,  824.27 ,    0.   ],\n",
              "       [ 364.212,    0.   ,  841.788,    0.   ],\n",
              "       [ 374.224,    0.   ,  856.776,    0.   ],\n",
              "       [ 382.165,    0.   ,  870.835,    0.   ],\n",
              "       [ 391.86 ,    0.   ,  868.14 ,    0.   ],\n",
              "       [ 401.812,    0.   ,  890.188,    0.   ],\n",
              "       [ 404.709,    0.   ,  888.291,    0.   ],\n",
              "       [ 400.708,    0.   ,  900.292,    0.   ],\n",
              "       [ 374.781,   63.591,  914.628,    0.   ],\n",
              "       [ 336.069,  121.704,  925.227,    0.   ],\n",
              "       [ 298.699,  267.178,  935.123,    0.   ],\n",
              "       [ 252.32 ,  381.634,  943.046,    0.   ],\n",
              "       [ 179.312,  472.295,  949.393,    0.   ],\n",
              "       [ 103.155,  525.297,  958.548,    0.   ],\n",
              "       [  52.972,  556.206,  948.822,    0.   ],\n",
              "       [   0.   ,  577.22 ,  941.78 ,    0.   ],\n",
              "       [   0.   ,  595.192,  938.808,    0.   ],\n",
              "       [   0.   ,  608.3  ,  931.7  ,    0.   ],\n",
              "       [   0.   ,  611.328,  924.672,    0.   ],\n",
              "       [   0.   ,  613.05 ,  911.95 ,    0.   ],\n",
              "       [   0.   ,  606.138,  875.862,    0.   ],\n",
              "       [   0.   ,  579.336,  854.664,    0.   ]])"
            ]
          },
          "execution_count": 19,
          "metadata": {},
          "output_type": "execute_result"
        }
      ],
      "source": [
        "sequences[0]"
      ]
    },
    {
      "cell_type": "code",
      "execution_count": 20,
      "metadata": {
        "colab": {
          "base_uri": "https://localhost:8080/"
        },
        "id": "Md2h_ANh2PjY",
        "outputId": "59e5b3af-212b-473a-ffaa-c5f28a41ecf9"
      },
      "outputs": [
        {
          "data": {
            "text/plain": [
              "array([1., 0., 0.])"
            ]
          },
          "execution_count": 20,
          "metadata": {},
          "output_type": "execute_result"
        }
      ],
      "source": [
        "one_hot_encoded[0]"
      ]
    },
    {
      "cell_type": "code",
      "execution_count": 21,
      "metadata": {
        "id": "pMscEuuv2_1g"
      },
      "outputs": [],
      "source": [
        "X_train, X_test, y_train, y_test = train_test_split(sequences, labels, test_size=0.2)"
      ]
    },
    {
      "cell_type": "code",
      "execution_count": 22,
      "metadata": {
        "colab": {
          "base_uri": "https://localhost:8080/"
        },
        "id": "ZKV_yEpN3kFA",
        "outputId": "d33d8c10-fc09-4882-c5a8-59393f61b47b"
      },
      "outputs": [
        {
          "data": {
            "text/plain": [
              "numpy.ndarray"
            ]
          },
          "execution_count": 22,
          "metadata": {},
          "output_type": "execute_result"
        }
      ],
      "source": [
        "type(X_train[0])"
      ]
    },
    {
      "cell_type": "markdown",
      "metadata": {
        "id": "u0QUChZPAhGU"
      },
      "source": [
        "### 2. Prepare your Final Model"
      ]
    },
    {
      "cell_type": "code",
      "execution_count": 23,
      "metadata": {
        "colab": {
          "base_uri": "https://localhost:8080/"
        },
        "id": "jcutuuNa1RHW",
        "outputId": "c44d493a-7e59-4db3-82e2-1fb4ecea3891"
      },
      "outputs": [
        {
          "name": "stdout",
          "output_type": "stream",
          "text": [
            "Epoch 1/10\n",
            "648/648 [==============================] - 21s 21ms/step - loss: 0.8866 - accuracy: 0.5580 - val_loss: 0.8164 - val_accuracy: 0.5982\n",
            "Epoch 2/10\n",
            "648/648 [==============================] - 13s 19ms/step - loss: 0.7426 - accuracy: 0.6578 - val_loss: 0.6301 - val_accuracy: 0.7137\n",
            "Epoch 3/10\n",
            "648/648 [==============================] - 13s 19ms/step - loss: 0.6098 - accuracy: 0.7288 - val_loss: 0.4395 - val_accuracy: 0.8164\n",
            "Epoch 4/10\n",
            "648/648 [==============================] - 12s 19ms/step - loss: 0.4653 - accuracy: 0.8040 - val_loss: 0.3547 - val_accuracy: 0.8495\n",
            "Epoch 5/10\n",
            "648/648 [==============================] - 12s 19ms/step - loss: 0.3550 - accuracy: 0.8528 - val_loss: 0.3377 - val_accuracy: 0.8661\n",
            "Epoch 6/10\n",
            "648/648 [==============================] - 12s 19ms/step - loss: 0.2553 - accuracy: 0.8996 - val_loss: 0.2791 - val_accuracy: 0.8966\n",
            "Epoch 7/10\n",
            "648/648 [==============================] - 12s 19ms/step - loss: 0.2369 - accuracy: 0.9132 - val_loss: 0.2033 - val_accuracy: 0.9215\n",
            "Epoch 8/10\n",
            "648/648 [==============================] - 11s 18ms/step - loss: 0.1760 - accuracy: 0.9348 - val_loss: 0.1785 - val_accuracy: 0.9307\n",
            "Epoch 9/10\n",
            "648/648 [==============================] - 12s 18ms/step - loss: 0.1734 - accuracy: 0.9368 - val_loss: 0.1925 - val_accuracy: 0.9205\n",
            "Epoch 10/10\n",
            "648/648 [==============================] - 12s 19ms/step - loss: 0.1417 - accuracy: 0.9479 - val_loss: 0.1166 - val_accuracy: 0.9622\n"
          ]
        },
        {
          "data": {
            "text/plain": [
              "<keras.src.callbacks.History at 0x7d60868edfc0>"
            ]
          },
          "execution_count": 23,
          "metadata": {},
          "output_type": "execute_result"
        }
      ],
      "source": [
        "# Define model architecture\n",
        "model = Sequential([\n",
        "    LSTM(units=100, return_sequences=True, input_shape=(120, 4)),\n",
        "    Dropout(0.15),\n",
        "    LSTM(units=128,return_sequences=True),\n",
        "    Dropout(0.15),\n",
        "    LSTM(units=128),\n",
        "    Dense(units=3, activation='softmax')  # Assuming 3 classes for classification\n",
        "])\n",
        "\n",
        "# Compile the model\n",
        "model.compile(optimizer='adam', loss='sparse_categorical_crossentropy', metrics=['accuracy'])\n",
        "early_stopping = EarlyStopping(monitor='val_accuracy', patience=3, restore_best_weights=True)\n",
        "\n",
        "# Train the model with early stopping\n",
        "model.fit(X_train, y_train, epochs=10, batch_size=32, callbacks=[early_stopping],validation_split=0.2)"
      ]
    },
    {
      "cell_type": "code",
      "execution_count": 34,
      "metadata": {
        "colab": {
          "base_uri": "https://localhost:8080/"
        },
        "id": "WJh-ZJk9BwGn",
        "outputId": "78d0106b-c314-403c-ab58-dc991e2900fb"
      },
      "outputs": [
        {
          "name": "stdout",
          "output_type": "stream",
          "text": [
            "Model: \"sequential\"\n",
            "_________________________________________________________________\n",
            " Layer (type)                Output Shape              Param #   \n",
            "=================================================================\n",
            " lstm (LSTM)                 (None, 120, 100)          42000     \n",
            "                                                                 \n",
            " dropout (Dropout)           (None, 120, 100)          0         \n",
            "                                                                 \n",
            " lstm_1 (LSTM)               (None, 120, 128)          117248    \n",
            "                                                                 \n",
            " dropout_1 (Dropout)         (None, 120, 128)          0         \n",
            "                                                                 \n",
            " lstm_2 (LSTM)               (None, 128)               131584    \n",
            "                                                                 \n",
            " dense (Dense)               (None, 3)                 387       \n",
            "                                                                 \n",
            "=================================================================\n",
            "Total params: 291219 (1.11 MB)\n",
            "Trainable params: 291219 (1.11 MB)\n",
            "Non-trainable params: 0 (0.00 Byte)\n",
            "_________________________________________________________________\n"
          ]
        }
      ],
      "source": [
        "model.summary()"
      ]
    },
    {
      "cell_type": "markdown",
      "metadata": {
        "id": "Jc_D41tMAnaH"
      },
      "source": [
        "### 3. Model Performance"
      ]
    },
    {
      "cell_type": "code",
      "execution_count": 24,
      "metadata": {
        "colab": {
          "base_uri": "https://localhost:8080/"
        },
        "id": "K9w2umKK3TPP",
        "outputId": "1622bd79-de68-4612-bc4e-5066054cecb2"
      },
      "outputs": [
        {
          "name": "stdout",
          "output_type": "stream",
          "text": [
            "203/203 [==============================] - 3s 10ms/step - loss: 0.1080 - accuracy: 0.9639\n",
            "Test accuracy: 0.9638888835906982\n"
          ]
        }
      ],
      "source": [
        "test_loss, test_acc = model.evaluate(X_test, y_test)\n",
        "print('Test accuracy:', test_acc)"
      ]
    },
    {
      "cell_type": "code",
      "execution_count": 25,
      "metadata": {
        "colab": {
          "base_uri": "https://localhost:8080/"
        },
        "id": "eVyM-rKWjBPl",
        "outputId": "f9a9d89d-198f-4069-cd6e-fc29e56ce035"
      },
      "outputs": [
        {
          "name": "stdout",
          "output_type": "stream",
          "text": [
            "203/203 [==============================] - 2s 7ms/step\n"
          ]
        }
      ],
      "source": [
        "predictions = model.predict(X_test)"
      ]
    },
    {
      "cell_type": "code",
      "execution_count": 26,
      "metadata": {
        "id": "HI3Iz9l0pIu8"
      },
      "outputs": [],
      "source": [
        "predicted_labels = np.argmax(predictions, axis=1)"
      ]
    },
    {
      "cell_type": "code",
      "execution_count": 27,
      "metadata": {
        "colab": {
          "base_uri": "https://localhost:8080/"
        },
        "id": "IxeXubnrpJx9",
        "outputId": "ed5f23d0-a1b2-4a18-8601-1d06c979976d"
      },
      "outputs": [
        {
          "data": {
            "text/plain": [
              "array([[9.8482680e-01, 2.6658777e-04, 1.4906577e-02],\n",
              "       [7.8859776e-01, 1.3901072e-03, 2.1001217e-01],\n",
              "       [1.0394189e-01, 3.1610786e-03, 8.9289707e-01],\n",
              "       ...,\n",
              "       [9.9360102e-01, 5.7526720e-03, 6.4627011e-04],\n",
              "       [8.7904753e-03, 9.9044210e-01, 7.6745712e-04],\n",
              "       [8.0659652e-01, 1.9290197e-01, 5.0147017e-04]], dtype=float32)"
            ]
          },
          "execution_count": 27,
          "metadata": {},
          "output_type": "execute_result"
        }
      ],
      "source": [
        "predictions"
      ]
    },
    {
      "cell_type": "code",
      "execution_count": 28,
      "metadata": {
        "colab": {
          "base_uri": "https://localhost:8080/"
        },
        "id": "arpisElSpMHE",
        "outputId": "4f21c2e2-7548-40e0-b255-97427e5c122d"
      },
      "outputs": [
        {
          "data": {
            "text/plain": [
              "array([0, 0, 2, ..., 0, 1, 0])"
            ]
          },
          "execution_count": 28,
          "metadata": {},
          "output_type": "execute_result"
        }
      ],
      "source": [
        "y_test"
      ]
    },
    {
      "cell_type": "code",
      "execution_count": 29,
      "metadata": {
        "colab": {
          "base_uri": "https://localhost:8080/"
        },
        "id": "NKhYcXnmmz0q",
        "outputId": "fc9b2735-e5ba-4922-ad05-e015cfd5bd29"
      },
      "outputs": [
        {
          "data": {
            "text/plain": [
              "0.9630392464628267"
            ]
          },
          "execution_count": 29,
          "metadata": {},
          "output_type": "execute_result"
        }
      ],
      "source": [
        "f1_score(y_test,predicted_labels, average='macro')"
      ]
    },
    {
      "cell_type": "code",
      "execution_count": 30,
      "metadata": {
        "colab": {
          "base_uri": "https://localhost:8080/"
        },
        "id": "u07abSDtoA1L",
        "outputId": "6beb4dc1-d28b-4c65-f1ba-6bc6aaf2722b"
      },
      "outputs": [
        {
          "data": {
            "text/plain": [
              "array([0, 0, 2, ..., 0, 1, 0])"
            ]
          },
          "execution_count": 30,
          "metadata": {},
          "output_type": "execute_result"
        }
      ],
      "source": [
        "y_test"
      ]
    },
    {
      "cell_type": "code",
      "execution_count": 31,
      "metadata": {
        "colab": {
          "base_uri": "https://localhost:8080/"
        },
        "id": "13wkxs5hoj1B",
        "outputId": "5097d3ea-d55c-4966-e20f-8ce0fd9ca4a8"
      },
      "outputs": [
        {
          "name": "stdout",
          "output_type": "stream",
          "text": [
            "              precision    recall  f1-score   support\n",
            "\n",
            "           0       0.97      0.93      0.95      2057\n",
            "           1       0.97      0.97      0.97      2031\n",
            "           2       0.96      1.00      0.98      2392\n",
            "\n",
            "    accuracy                           0.96      6480\n",
            "   macro avg       0.96      0.96      0.96      6480\n",
            "weighted avg       0.96      0.96      0.96      6480\n",
            "\n"
          ]
        }
      ],
      "source": [
        "print(classification_report(y_test,predicted_labels))"
      ]
    },
    {
      "cell_type": "code",
      "execution_count": 33,
      "metadata": {
        "colab": {
          "base_uri": "https://localhost:8080/",
          "height": 452
        },
        "id": "MB1LCfiMyXEu",
        "outputId": "cdd25663-f1c7-4669-a7e6-75b0211e6d99"
      },
      "outputs": [
        {
          "data": {
            "image/png": "[encoded data removed]",
            "text/plain": [
              "<Figure size 640x480 with 1 Axes>"
            ]
          },
          "metadata": {},
          "output_type": "display_data"
        }
      ],
      "source": [
        "# Classification Report\n",
        "report=classification_report(y_test,predicted_labels).split(\" \")\n",
        "report=[x for x in report if x != \"\"]\n",
        "\n",
        "# Visualizing various metrics for Normal & OA dogs\n",
        "Normal_metrics = {'Precision': float(report[5]), 'Recall': float(report[6]), 'f1-score': float(report[7])}\n",
        "OA_metrics = {'Precision': float(report[10]), 'Recall': float(report[11]), 'f1-score': float(report[12])}\n",
        "\n",
        "metric_names = list(Normal_metrics.keys())\n",
        "names_values = list(Normal_metrics.values())\n",
        "OA_values = list(OA_metrics.values())\n",
        "num_metrics = len(metric_names)\n",
        "bar_width = 0.25\n",
        "indices = np.arange(num_metrics)\n",
        "fig, ax = plt.subplots()\n",
        "bars_Normal = ax.bar(indices - bar_width/2, names_values, bar_width, label='Normal')\n",
        "bars_OA = ax.bar(indices + bar_width/2, OA_values, bar_width, label='Osteoarthritis')\n",
        "\n",
        "ax.set_xticks(indices)\n",
        "ax.set_xticklabels(metric_names)\n",
        "ax.set_ylim(0, 1)\n",
        "ax.set_yticklabels(['{:,.0%}'.format(x) for x in ax.get_yticks()])\n",
        "ax.set_title('Comparison of Metrics Between Normal & OA dogs')\n",
        "ax.legend()\n",
        "\n",
        "plt.show()"
      ]
    },
    {
      "cell_type": "code",
      "execution_count": 33,
      "metadata": {
        "id": "1oWj36enHGHh"
      },
      "outputs": [],
      "source": []
    }
  ],
  "metadata": {
    "accelerator": "GPU",
    "colab": {
      "gpuType": "T4",
      "provenance": []
    },
    "kernelspec": {
      "display_name": "Python 3",
      "name": "python3"
    },
    "language_info": {
      "name": "python"
    }
  },
  "nbformat": 4,
  "nbformat_minor": 0
}
